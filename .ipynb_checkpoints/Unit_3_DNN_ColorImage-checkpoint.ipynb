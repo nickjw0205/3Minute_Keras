{
 "cells": [
  {
   "cell_type": "code",
   "execution_count": 1,
   "metadata": {},
   "outputs": [],
   "source": [
    "import os\n",
    "os.environ['KERAS_BACKEND']='tensorflow'"
   ]
  },
  {
   "cell_type": "code",
   "execution_count": 2,
   "metadata": {},
   "outputs": [],
   "source": [
    "import tensorflow as tf\n",
    "from tensorflow.keras import layers, models\n",
    "import numpy as np\n",
    "from tensorflow.keras import datasets\n",
    "from tensorflow.keras import utils #import np_utils\n",
    "from tensorflow.keras import applications"
   ]
  },
  {
   "cell_type": "markdown",
   "metadata": {},
   "source": [
    "# 3.2 필기체를 분류하는 DNN 구현"
   ]
  },
  {
   "cell_type": "markdown",
   "metadata": {},
   "source": [
    "### MNIST 데이터 불러오고 가공하기"
   ]
  },
  {
   "cell_type": "code",
   "execution_count": 3,
   "metadata": {},
   "outputs": [],
   "source": [
    "(x_train, y_train), (x_test, y_test) = datasets.mnist.load_data()"
   ]
  },
  {
   "cell_type": "code",
   "execution_count": 4,
   "metadata": {},
   "outputs": [],
   "source": [
    "y_train = utils.to_categorical(y_train)\n",
    "y_test = utils.to_categorical(y_test)"
   ]
  },
  {
   "cell_type": "code",
   "execution_count": 5,
   "metadata": {},
   "outputs": [],
   "source": [
    "L, W, H = x_train.shape\n",
    "x_train = x_train.reshape(-1, W*H)\n",
    "x_test = x_test.reshape(-1, W*H)"
   ]
  },
  {
   "cell_type": "code",
   "execution_count": 6,
   "metadata": {},
   "outputs": [],
   "source": [
    "x_train = x_train / 255.0\n",
    "x_test = x_test / 255.0"
   ]
  },
  {
   "cell_type": "markdown",
   "metadata": {},
   "source": [
    "### DNN구현에 필요한 파라미터 정의"
   ]
  },
  {
   "cell_type": "code",
   "execution_count": 7,
   "metadata": {},
   "outputs": [],
   "source": [
    "Nin = 784\n",
    "Nh_1 = [100, 50]\n",
    "number_of_class = 10\n",
    "Nout = number_of_class"
   ]
  },
  {
   "cell_type": "markdown",
   "metadata": {},
   "source": [
    "### DNN 모델 구현"
   ]
  },
  {
   "cell_type": "code",
   "execution_count": 8,
   "metadata": {},
   "outputs": [],
   "source": [
    "class DNN(models.Sequential):\n",
    "    def __init__(self, Nin, Nh_1, Nout):\n",
    "        super().__init__()\n",
    "        self.add(layers.Dense(Nh_1[0], activation='relu', input_shape = (Nin, ), name = 'Hidden'))\n",
    "        self.add(layers.Dropout(0.2))\n",
    "        \n",
    "        self.add(layers.Dense(Nh_1[1], activation='relu', input_shape = (Nin, ), name = 'Hidden-2'))\n",
    "        self.add(layers.Dropout(0.2))\n",
    "        self.add(layers.Dense(Nout, activation='softmax'))\n",
    "        \n",
    "        self.compile(loss = 'categorical_crossentropy',\n",
    "                     optimizer = 'adam',\n",
    "                     metrics = ['accuracy'])"
   ]
  },
  {
   "cell_type": "markdown",
   "metadata": {},
   "source": [
    "### 학습 및 성능 평가"
   ]
  },
  {
   "cell_type": "code",
   "execution_count": 9,
   "metadata": {},
   "outputs": [
    {
     "name": "stdout",
     "output_type": "stream",
     "text": [
      "Epoch 1/10\n",
      "454/480 [===========================>..] - ETA: 0s - loss: 0.5553 - accuracy: 0.8353WARNING:tensorflow:Callbacks method `on_test_batch_end` is slow compared to the batch time (batch time: 0.0010s vs `on_test_batch_end` time: 0.0020s). Check your callbacks.\n",
      "480/480 [==============================] - 1s 3ms/step - loss: 0.5402 - accuracy: 0.8400 - val_loss: 0.1870 - val_accuracy: 0.9458\n",
      "Epoch 2/10\n",
      "480/480 [==============================] - 1s 2ms/step - loss: 0.2380 - accuracy: 0.9307 - val_loss: 0.1453 - val_accuracy: 0.9578\n",
      "Epoch 3/10\n",
      "480/480 [==============================] - 1s 2ms/step - loss: 0.1820 - accuracy: 0.9453 - val_loss: 0.1262 - val_accuracy: 0.9633\n",
      "Epoch 4/10\n",
      "480/480 [==============================] - 1s 2ms/step - loss: 0.1499 - accuracy: 0.9557 - val_loss: 0.1131 - val_accuracy: 0.9658\n",
      "Epoch 5/10\n",
      "480/480 [==============================] - 1s 2ms/step - loss: 0.1329 - accuracy: 0.9601 - val_loss: 0.1120 - val_accuracy: 0.9674\n",
      "Epoch 6/10\n",
      "480/480 [==============================] - 1s 2ms/step - loss: 0.1169 - accuracy: 0.9643 - val_loss: 0.1024 - val_accuracy: 0.9724\n",
      "Epoch 7/10\n",
      "480/480 [==============================] - 1s 2ms/step - loss: 0.1065 - accuracy: 0.9673 - val_loss: 0.0941 - val_accuracy: 0.9730\n",
      "Epoch 8/10\n",
      "480/480 [==============================] - 1s 2ms/step - loss: 0.0986 - accuracy: 0.9692 - val_loss: 0.0943 - val_accuracy: 0.9729\n",
      "Epoch 9/10\n",
      "480/480 [==============================] - 1s 2ms/step - loss: 0.0887 - accuracy: 0.9730 - val_loss: 0.0955 - val_accuracy: 0.9732\n",
      "Epoch 10/10\n",
      "480/480 [==============================] - 1s 2ms/step - loss: 0.0851 - accuracy: 0.9732 - val_loss: 0.0923 - val_accuracy: 0.9737\n"
     ]
    }
   ],
   "source": [
    "model = DNN(Nin, Nh_1, Nout)\n",
    "history = model.fit(x_train, y_train, epochs = 10, batch_size = 100, validation_split = 0.2)"
   ]
  },
  {
   "cell_type": "code",
   "execution_count": 10,
   "metadata": {},
   "outputs": [
    {
     "name": "stdout",
     "output_type": "stream",
     "text": [
      "100/100 [==============================] - 0s 1ms/step - loss: 0.0838 - accuracy: 0.9755\n",
      "Test Loss and Accuracy ->  [0.08378802984952927, 0.9754999876022339]\n"
     ]
    }
   ],
   "source": [
    "performance_test = model.evaluate(x_test, y_test, batch_size = 100)\n",
    "print(\"Test Loss and Accuracy -> \", performance_test)"
   ]
  },
  {
   "cell_type": "markdown",
   "metadata": {},
   "source": [
    "### 시각화(책에 코드 없어용)"
   ]
  },
  {
   "cell_type": "code",
   "execution_count": 11,
   "metadata": {},
   "outputs": [
    {
     "data": {
      "text/plain": [
       "<Figure size 500x300 with 1 Axes>"
      ]
     },
     "metadata": {},
     "output_type": "display_data"
    }
   ],
   "source": [
    "import matplotlib.pyplot as plt\n",
    "fig = plt.figure(facecolor='white', figsize=(5, 3))\n",
    "loss_ax = fig.add_subplot(111)\n",
    "\n",
    "loss_ax.plot(history.history['loss'], 'b', label='train loss')\n",
    "loss_ax.plot(history.history['accuracy'], 'r', label='train acc')\n",
    "\n",
    "loss_ax.set_xlabel('epoch')\n",
    "loss_ax.legend(loc='center right')\n",
    "plt.xlim([0, 9])\n",
    "plt.ylim([0, 1])\n",
    "plt.show()"
   ]
  },
  {
   "cell_type": "code",
   "execution_count": 12,
   "metadata": {},
   "outputs": [],
   "source": [
    "yhat = model.predict(x_test, batch_size=100)"
   ]
  },
  {
   "cell_type": "code",
   "execution_count": 13,
   "metadata": {},
   "outputs": [
    {
     "data": {
      "image/png": "[encoded data removed]",
      "text/plain": [
       "<Figure size 720x720 with 25 Axes>"
      ]
     },
     "metadata": {
      "needs_background": "light"
     },
     "output_type": "display_data"
    }
   ],
   "source": [
    "plt_row = 5\n",
    "plt_col = 5\n",
    "plt.rcParams[\"figure.figsize\"] = (10,10)\n",
    "f, axarr = plt.subplots(plt_row, plt_col)\n",
    "cnt = 0\n",
    "i = 0\n",
    "\n",
    "while cnt < (plt_row * plt_col):\n",
    "    if np.argmax(y_test[i]) != np.argmax(yhat[i]):\n",
    "        i += 1\n",
    "        continue\n",
    "    sub_plt = axarr[cnt//plt_row, cnt%plt_col]\n",
    "    sub_plt.axis('off')\n",
    "    sub_plt.imshow(x_test[i].reshape(28, 28))\n",
    "    sub_plt_title = 'R: '+ str(np.argmax(yhat[i])) + ' P: ' + str(np.argmax(yhat[i]))\n",
    "    sub_plt.set_title(sub_plt_title)\n",
    "    i+=1\n",
    "    cnt += 1\n",
    "    \n",
    "plt.show()"
   ]
  },
  {
   "cell_type": "markdown",
   "metadata": {},
   "source": [
    "# 3.3 컬러 이미지를 분류하는 DNN 구현"
   ]
  },
  {
   "cell_type": "markdown",
   "metadata": {},
   "source": [
    "### 분류 DNN 모델 구현"
   ]
  },
  {
   "cell_type": "code",
   "execution_count": 14,
   "metadata": {},
   "outputs": [],
   "source": [
    "class DNN(models.Sequential):\n",
    "    def __init__(self, Nin, Nh_l, Pd_l, Nout):\n",
    "        super().__init__()\n",
    "\n",
    "        self.add(layers.Dense(Nh_l[0], activation='relu',\n",
    "                              input_shape=(Nin,), name='Hidden-1'))\n",
    "        self.add(layers.Dropout(Pd_l[0]))\n",
    "\n",
    "        self.add(layers.Dense(Nh_l[1], activation='relu',\n",
    "                              name='Hidden-2'))\n",
    "        self.add(layers.Dropout(Pd_l[1]))\n",
    "\n",
    "        self.add(layers.Dense(Nout, activation='softmax'))\n",
    "\n",
    "        self.compile(loss='categorical_crossentropy',\n",
    "                     optimizer='adam',\n",
    "                     metrics=['accuracy'])"
   ]
  },
  {
   "cell_type": "markdown",
   "metadata": {},
   "source": [
    "### 데이터 준비"
   ]
  },
  {
   "cell_type": "markdown",
   "metadata": {},
   "source": [
    "### 분류 DNN 학습 및 테스팅"
   ]
  },
  {
   "cell_type": "code",
   "execution_count": 18,
   "metadata": {},
   "outputs": [],
   "source": [
    "def Data_func():\n",
    "    (X_train, y_train), (X_test, y_test) = datasets.mnist.load_data()\n",
    "\n",
    "    Y_train = utils.to_categorical(y_train)\n",
    "    Y_test = utils.to_categorical(y_test)\n",
    "\n",
    "    L, W, H = X_train.shape\n",
    "    X_train = X_train.reshape(-1, W * H)\n",
    "    X_test = X_test.reshape(-1, W * H)\n",
    "\n",
    "    X_train = X_train / 255.0\n",
    "    X_test = X_test / 255.0\n",
    "\n",
    "    return (X_train, Y_train), (X_test, Y_test)"
   ]
  },
  {
   "cell_type": "code",
   "execution_count": 19,
   "metadata": {},
   "outputs": [
    {
     "name": "stdout",
     "output_type": "stream",
     "text": [
      "Epoch 1/20\n",
      "480/480 [==============================] - 1s 3ms/step - loss: 0.3798 - accuracy: 0.8935 - val_loss: 0.1881 - val_accuracy: 0.9463\n",
      "Epoch 2/20\n",
      "480/480 [==============================] - 1s 2ms/step - loss: 0.1630 - accuracy: 0.9518 - val_loss: 0.1600 - val_accuracy: 0.9502\n",
      "Epoch 3/20\n",
      "480/480 [==============================] - 1s 2ms/step - loss: 0.1206 - accuracy: 0.9639 - val_loss: 0.1303 - val_accuracy: 0.9620\n",
      "Epoch 4/20\n",
      "480/480 [==============================] - 1s 2ms/step - loss: 0.0929 - accuracy: 0.9723 - val_loss: 0.1182 - val_accuracy: 0.9639\n",
      "Epoch 5/20\n",
      "480/480 [==============================] - 1s 2ms/step - loss: 0.0762 - accuracy: 0.9772 - val_loss: 0.0997 - val_accuracy: 0.9697\n",
      "Epoch 6/20\n",
      "480/480 [==============================] - 1s 2ms/step - loss: 0.0629 - accuracy: 0.9812 - val_loss: 0.0958 - val_accuracy: 0.9714\n",
      "Epoch 7/20\n",
      "480/480 [==============================] - 1s 2ms/step - loss: 0.0512 - accuracy: 0.9849 - val_loss: 0.0934 - val_accuracy: 0.9720\n",
      "Epoch 8/20\n",
      "480/480 [==============================] - 1s 2ms/step - loss: 0.0411 - accuracy: 0.9878 - val_loss: 0.1011 - val_accuracy: 0.9718\n",
      "Epoch 9/20\n",
      "480/480 [==============================] - 1s 2ms/step - loss: 0.0359 - accuracy: 0.9890 - val_loss: 0.1011 - val_accuracy: 0.9712\n",
      "Epoch 10/20\n",
      "480/480 [==============================] - 1s 2ms/step - loss: 0.0284 - accuracy: 0.9917 - val_loss: 0.0948 - val_accuracy: 0.9737\n",
      "Epoch 11/20\n",
      "480/480 [==============================] - 1s 2ms/step - loss: 0.0258 - accuracy: 0.9924 - val_loss: 0.0899 - val_accuracy: 0.9747\n",
      "Epoch 12/20\n",
      "480/480 [==============================] - 1s 2ms/step - loss: 0.0190 - accuracy: 0.9946 - val_loss: 0.1001 - val_accuracy: 0.9736\n",
      "Epoch 13/20\n",
      "480/480 [==============================] - 1s 2ms/step - loss: 0.0190 - accuracy: 0.9939 - val_loss: 0.1149 - val_accuracy: 0.9706\n",
      "Epoch 14/20\n",
      "480/480 [==============================] - 1s 2ms/step - loss: 0.0142 - accuracy: 0.9958 - val_loss: 0.1033 - val_accuracy: 0.9724\n",
      "Epoch 15/20\n",
      "480/480 [==============================] - 1s 2ms/step - loss: 0.0143 - accuracy: 0.9954 - val_loss: 0.1071 - val_accuracy: 0.9743\n",
      "Epoch 16/20\n",
      "480/480 [==============================] - 1s 2ms/step - loss: 0.0115 - accuracy: 0.9967 - val_loss: 0.1310 - val_accuracy: 0.9703\n",
      "Epoch 17/20\n",
      "480/480 [==============================] - 1s 2ms/step - loss: 0.0111 - accuracy: 0.9964 - val_loss: 0.1159 - val_accuracy: 0.9737\n",
      "Epoch 18/20\n",
      "480/480 [==============================] - 1s 2ms/step - loss: 0.0109 - accuracy: 0.9967 - val_loss: 0.1302 - val_accuracy: 0.9707\n",
      "Epoch 19/20\n",
      "480/480 [==============================] - 1s 2ms/step - loss: 0.0076 - accuracy: 0.9980 - val_loss: 0.1156 - val_accuracy: 0.9742\n",
      "Epoch 20/20\n",
      "480/480 [==============================] - 1s 2ms/step - loss: 0.0086 - accuracy: 0.9972 - val_loss: 0.1391 - val_accuracy: 0.9711\n",
      "100/100 [==============================] - 0s 1ms/step - loss: 0.1261 - accuracy: 0.9730\n",
      "Test Loss and Accuracy -> [0.12606306374073029, 0.9729999899864197]\n"
     ]
    },
    {
     "data": {
      "image/png": "[encoded data removed]",
      "text/plain": [
       "<Figure size 360x216 with 1 Axes>"
      ]
     },
     "metadata": {},
     "output_type": "display_data"
    }
   ],
   "source": [
    "import matplotlib.pyplot as plt\n",
    "def main(Pd_l=[0.0, 0.0]):\n",
    "    Nh_l = [100, 50]\n",
    "    number_of_class = 10\n",
    "    Nout = number_of_class\n",
    "\n",
    "    (X_train, Y_train), (X_test, Y_test) = Data_func()\n",
    "    model = DNN(X_train.shape[1], Nh_l, Pd_l, Nout)\n",
    "    model_DNN = model.fit(X_train, Y_train, epochs=20, batch_size=100, validation_split=0.2)\n",
    "\n",
    "    performance_test = model.evaluate(X_test, Y_test, batch_size=100)\n",
    "    print('Test Loss and Accuracy ->', performance_test)\n",
    "\n",
    "    fig = plt.figure(facecolor='white', figsize=(5, 3))\n",
    "    loss_ax = fig.add_subplot(111)\n",
    "\n",
    "    loss_ax.plot(model_DNN.history['loss'], 'b', label='train loss')\n",
    "    loss_ax.plot(model_DNN.history['accuracy'], 'r', label='train acc')\n",
    "\n",
    "    loss_ax.set_xlabel('epoch')\n",
    "    loss_ax.legend(loc='center right')\n",
    "    plt.xlim([0, 20])\n",
    "    plt.ylim([0, 1])\n",
    "    plt.show()\n",
    "    \n",
    "if __name__ == '__main__':\n",
    "    main(Pd_l=[0.0, 0.0])"
   ]
  },
  {
   "cell_type": "code",
   "execution_count": null,
   "metadata": {},
   "outputs": [],
   "source": []
  },
  {
   "cell_type": "code",
   "execution_count": null,
   "metadata": {},
   "outputs": [],
   "source": []
  }
 ],
 "metadata": {
  "kernelspec": {
   "display_name": "keras",
   "language": "python",
   "name": "keras"
  },
  "language_info": {
   "codemirror_mode": {
    "name": "ipython",
    "version": 3
   },
   "file_extension": ".py",
   "mimetype": "text/x-python",
   "name": "python",
   "nbconvert_exporter": "python",
   "pygments_lexer": "ipython3",
   "version": "3.6.12"
  }
 },
 "nbformat": 4,
 "nbformat_minor": 4
}
