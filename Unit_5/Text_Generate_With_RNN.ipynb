{
 "cells": [
  {
   "cell_type": "code",
   "execution_count": 1,
   "metadata": {},
   "outputs": [],
   "source": [
    "from tensorflow.keras.preprocessing.text import Tokenizer\n",
    "from tensorflow.keras.preprocessing.sequence import pad_sequences\n",
    "import numpy as np\n",
    "from tensorflow.keras.utils import to_categorical"
   ]
  },
  {
   "cell_type": "code",
   "execution_count": 2,
   "metadata": {},
   "outputs": [],
   "source": [
    "text=\"\"\"경마장에 있는 말이 뛰고 있다\\n\n",
    "그의 말이 법이다\\n\n",
    "가는 말이 고와야 오는 말이 곱다\\n\"\"\""
   ]
  },
  {
   "cell_type": "code",
   "execution_count": 3,
   "metadata": {},
   "outputs": [
    {
     "name": "stdout",
     "output_type": "stream",
     "text": [
      "단어 집합의 크기 : 12\n"
     ]
    }
   ],
   "source": [
    "t = Tokenizer()\n",
    "t.fit_on_texts([text])\n",
    "vocab_size = len(t.word_index) + 1\n",
    "# 케라스 토크나이저의 정수 인코딩은 인덱스가 1부터 시작하지만,\n",
    "# 케라스 원-핫 인코딩에서 배열의 인덱스가 0부터 시작하기 때문에\n",
    "# 배열의 크기를 실제 단어 집합의 크기보다 +1로 생성해야하므로 미리 +1 선언 \n",
    "print('단어 집합의 크기 : %d' % vocab_size)"
   ]
  },
  {
   "cell_type": "code",
   "execution_count": 4,
   "metadata": {},
   "outputs": [
    {
     "name": "stdout",
     "output_type": "stream",
     "text": [
      "{'말이': 1, '경마장에': 2, '있는': 3, '뛰고': 4, '있다': 5, '그의': 6, '법이다': 7, '가는': 8, '고와야': 9, '오는': 10, '곱다': 11}\n"
     ]
    }
   ],
   "source": [
    "print(t.word_index)"
   ]
  },
  {
   "cell_type": "code",
   "execution_count": 22,
   "metadata": {},
   "outputs": [
    {
     "name": "stdout",
     "output_type": "stream",
     "text": [
      "[2, 3]\n",
      "[2, 3, 1]\n",
      "[2, 3, 1, 4]\n",
      "[2, 3, 1, 4, 5]\n",
      "[6, 1]\n",
      "[6, 1, 7]\n",
      "[8, 1]\n",
      "[8, 1, 9]\n",
      "[8, 1, 9, 10]\n",
      "[8, 1, 9, 10, 1]\n",
      "[8, 1, 9, 10, 1, 11]\n",
      "학습에 사용할 샘플의 개수: 11\n"
     ]
    }
   ],
   "source": [
    "sequences = list()\n",
    "for line in text.split('\\n'): # Wn을 기준으로 문장 토큰화\n",
    "    encoded = t.texts_to_sequences([line])[0]\n",
    "    for i in range(1, len(encoded)):\n",
    "        sequence = encoded[:i+1]\n",
    "        print(sequence)\n",
    "        sequences.append(sequence)\n",
    "\n",
    "print('학습에 사용할 샘플의 개수: %d' % len(sequences))"
   ]
  },
  {
   "cell_type": "code",
   "execution_count": 6,
   "metadata": {},
   "outputs": [
    {
     "name": "stdout",
     "output_type": "stream",
     "text": [
      "[[2, 3], [2, 3, 1], [2, 3, 1, 4], [2, 3, 1, 4, 5], [6, 1], [6, 1, 7], [8, 1], [8, 1, 9], [8, 1, 9, 10], [8, 1, 9, 10, 1], [8, 1, 9, 10, 1, 11]]\n"
     ]
    }
   ],
   "source": [
    "print(sequences)"
   ]
  },
  {
   "cell_type": "code",
   "execution_count": 7,
   "metadata": {},
   "outputs": [
    {
     "name": "stdout",
     "output_type": "stream",
     "text": [
      "샘플의 최대 길이 : 6\n"
     ]
    }
   ],
   "source": [
    "max_len=max(len(l) for l in sequences) # 모든 샘플에서 길이가 가장 긴 샘플의 길이 출력\n",
    "print('샘플의 최대 길이 : {}'.format(max_len))"
   ]
  },
  {
   "cell_type": "code",
   "execution_count": 8,
   "metadata": {},
   "outputs": [],
   "source": [
    "sequences = pad_sequences(sequences, maxlen=max_len, padding='pre')"
   ]
  },
  {
   "cell_type": "code",
   "execution_count": 9,
   "metadata": {},
   "outputs": [
    {
     "name": "stdout",
     "output_type": "stream",
     "text": [
      "[[ 0  0  0  0  2  3]\n",
      " [ 0  0  0  2  3  1]\n",
      " [ 0  0  2  3  1  4]\n",
      " [ 0  2  3  1  4  5]\n",
      " [ 0  0  0  0  6  1]\n",
      " [ 0  0  0  6  1  7]\n",
      " [ 0  0  0  0  8  1]\n",
      " [ 0  0  0  8  1  9]\n",
      " [ 0  0  8  1  9 10]\n",
      " [ 0  8  1  9 10  1]\n",
      " [ 8  1  9 10  1 11]]\n"
     ]
    }
   ],
   "source": [
    "print(sequences)"
   ]
  },
  {
   "cell_type": "code",
   "execution_count": 10,
   "metadata": {},
   "outputs": [],
   "source": [
    "sequences = np.array(sequences)\n",
    "X = sequences[:,:-1]\n",
    "y = sequences[:,-1]\n",
    "# 리스트의 마지막 값을 제외하고 저장한 것은 X\n",
    "# 리스트의 마지막 값만 저장한 것은 y. 이는 레이블에 해당됨."
   ]
  },
  {
   "cell_type": "code",
   "execution_count": 11,
   "metadata": {},
   "outputs": [
    {
     "name": "stdout",
     "output_type": "stream",
     "text": [
      "[[ 0  0  0  0  2]\n",
      " [ 0  0  0  2  3]\n",
      " [ 0  0  2  3  1]\n",
      " [ 0  2  3  1  4]\n",
      " [ 0  0  0  0  6]\n",
      " [ 0  0  0  6  1]\n",
      " [ 0  0  0  0  8]\n",
      " [ 0  0  0  8  1]\n",
      " [ 0  0  8  1  9]\n",
      " [ 0  8  1  9 10]\n",
      " [ 8  1  9 10  1]]\n"
     ]
    }
   ],
   "source": [
    "print(X)"
   ]
  },
  {
   "cell_type": "code",
   "execution_count": 12,
   "metadata": {},
   "outputs": [
    {
     "name": "stdout",
     "output_type": "stream",
     "text": [
      "[ 3  1  4  5  1  7  1  9 10  1 11]\n"
     ]
    }
   ],
   "source": [
    "print(y)"
   ]
  },
  {
   "cell_type": "code",
   "execution_count": 14,
   "metadata": {},
   "outputs": [],
   "source": [
    "y = to_categorical(y, num_classes=vocab_size)"
   ]
  },
  {
   "cell_type": "code",
   "execution_count": 15,
   "metadata": {},
   "outputs": [
    {
     "name": "stdout",
     "output_type": "stream",
     "text": [
      "[[0. 0. 0. 1. 0. 0. 0. 0. 0. 0. 0. 0.]\n",
      " [0. 1. 0. 0. 0. 0. 0. 0. 0. 0. 0. 0.]\n",
      " [0. 0. 0. 0. 1. 0. 0. 0. 0. 0. 0. 0.]\n",
      " [0. 0. 0. 0. 0. 1. 0. 0. 0. 0. 0. 0.]\n",
      " [0. 1. 0. 0. 0. 0. 0. 0. 0. 0. 0. 0.]\n",
      " [0. 0. 0. 0. 0. 0. 0. 1. 0. 0. 0. 0.]\n",
      " [0. 1. 0. 0. 0. 0. 0. 0. 0. 0. 0. 0.]\n",
      " [0. 0. 0. 0. 0. 0. 0. 0. 0. 1. 0. 0.]\n",
      " [0. 0. 0. 0. 0. 0. 0. 0. 0. 0. 1. 0.]\n",
      " [0. 1. 0. 0. 0. 0. 0. 0. 0. 0. 0. 0.]\n",
      " [0. 0. 0. 0. 0. 0. 0. 0. 0. 0. 0. 1.]]\n"
     ]
    }
   ],
   "source": [
    "print(y)"
   ]
  },
  {
   "cell_type": "markdown",
   "metadata": {},
   "source": [
    "### RNN 모델 설계"
   ]
  },
  {
   "cell_type": "code",
   "execution_count": 16,
   "metadata": {},
   "outputs": [],
   "source": [
    "from tensorflow.keras.models import Sequential\n",
    "from tensorflow.keras.layers import Embedding, Dense, SimpleRNN"
   ]
  },
  {
   "cell_type": "code",
   "execution_count": 17,
   "metadata": {},
   "outputs": [
    {
     "name": "stdout",
     "output_type": "stream",
     "text": [
      "Train on 11 samples\n",
      "Epoch 1/200\n",
      "11/11 - 3s - loss: 2.4912 - accuracy: 0.0000e+00\n",
      "Epoch 2/200\n",
      "11/11 - 0s - loss: 2.4787 - accuracy: 0.1818\n",
      "Epoch 3/200\n",
      "11/11 - 0s - loss: 2.4663 - accuracy: 0.2727\n",
      "Epoch 4/200\n",
      "11/11 - 0s - loss: 2.4539 - accuracy: 0.3636\n",
      "Epoch 5/200\n",
      "11/11 - 0s - loss: 2.4414 - accuracy: 0.3636\n",
      "Epoch 6/200\n",
      "11/11 - 0s - loss: 2.4287 - accuracy: 0.3636\n",
      "Epoch 7/200\n",
      "11/11 - 0s - loss: 2.4155 - accuracy: 0.3636\n",
      "Epoch 8/200\n",
      "11/11 - 0s - loss: 2.4019 - accuracy: 0.3636\n",
      "Epoch 9/200\n",
      "11/11 - 0s - loss: 2.3877 - accuracy: 0.3636\n",
      "Epoch 10/200\n",
      "11/11 - 0s - loss: 2.3729 - accuracy: 0.3636\n",
      "Epoch 11/200\n",
      "11/11 - 0s - loss: 2.3572 - accuracy: 0.3636\n",
      "Epoch 12/200\n",
      "11/11 - 0s - loss: 2.3407 - accuracy: 0.3636\n",
      "Epoch 13/200\n",
      "11/11 - 0s - loss: 2.3232 - accuracy: 0.3636\n",
      "Epoch 14/200\n",
      "11/11 - 0s - loss: 2.3047 - accuracy: 0.3636\n",
      "Epoch 15/200\n",
      "11/11 - 0s - loss: 2.2851 - accuracy: 0.3636\n",
      "Epoch 16/200\n",
      "11/11 - 0s - loss: 2.2644 - accuracy: 0.3636\n",
      "Epoch 17/200\n",
      "11/11 - 0s - loss: 2.2425 - accuracy: 0.3636\n",
      "Epoch 18/200\n",
      "11/11 - 0s - loss: 2.2196 - accuracy: 0.3636\n",
      "Epoch 19/200\n",
      "11/11 - 0s - loss: 2.1955 - accuracy: 0.3636\n",
      "Epoch 20/200\n",
      "11/11 - 0s - loss: 2.1705 - accuracy: 0.3636\n",
      "Epoch 21/200\n",
      "11/11 - 0s - loss: 2.1447 - accuracy: 0.3636\n",
      "Epoch 22/200\n",
      "11/11 - 0s - loss: 2.1185 - accuracy: 0.3636\n",
      "Epoch 23/200\n",
      "11/11 - 0s - loss: 2.0921 - accuracy: 0.3636\n",
      "Epoch 24/200\n",
      "11/11 - 0s - loss: 2.0659 - accuracy: 0.3636\n",
      "Epoch 25/200\n",
      "11/11 - 0s - loss: 2.0406 - accuracy: 0.3636\n",
      "Epoch 26/200\n",
      "11/11 - 0s - loss: 2.0166 - accuracy: 0.3636\n",
      "Epoch 27/200\n",
      "11/11 - 0s - loss: 1.9944 - accuracy: 0.3636\n",
      "Epoch 28/200\n",
      "11/11 - 0s - loss: 1.9744 - accuracy: 0.3636\n",
      "Epoch 29/200\n",
      "11/11 - 0s - loss: 1.9567 - accuracy: 0.3636\n",
      "Epoch 30/200\n",
      "11/11 - 0s - loss: 1.9411 - accuracy: 0.3636\n",
      "Epoch 31/200\n",
      "11/11 - 0s - loss: 1.9271 - accuracy: 0.3636\n",
      "Epoch 32/200\n",
      "11/11 - 0s - loss: 1.9140 - accuracy: 0.3636\n",
      "Epoch 33/200\n",
      "11/11 - 0s - loss: 1.9011 - accuracy: 0.3636\n",
      "Epoch 34/200\n",
      "11/11 - 0s - loss: 1.8878 - accuracy: 0.3636\n",
      "Epoch 35/200\n",
      "11/11 - 0s - loss: 1.8737 - accuracy: 0.3636\n",
      "Epoch 36/200\n",
      "11/11 - 0s - loss: 1.8589 - accuracy: 0.3636\n",
      "Epoch 37/200\n",
      "11/11 - 0s - loss: 1.8435 - accuracy: 0.3636\n",
      "Epoch 38/200\n",
      "11/11 - 0s - loss: 1.8277 - accuracy: 0.3636\n",
      "Epoch 39/200\n",
      "11/11 - 0s - loss: 1.8120 - accuracy: 0.3636\n",
      "Epoch 40/200\n",
      "11/11 - 0s - loss: 1.7966 - accuracy: 0.3636\n",
      "Epoch 41/200\n",
      "11/11 - 0s - loss: 1.7817 - accuracy: 0.3636\n",
      "Epoch 42/200\n",
      "11/11 - 0s - loss: 1.7674 - accuracy: 0.3636\n",
      "Epoch 43/200\n",
      "11/11 - 0s - loss: 1.7535 - accuracy: 0.3636\n",
      "Epoch 44/200\n",
      "11/11 - 0s - loss: 1.7399 - accuracy: 0.3636\n",
      "Epoch 45/200\n",
      "11/11 - 0s - loss: 1.7264 - accuracy: 0.3636\n",
      "Epoch 46/200\n",
      "11/11 - 0s - loss: 1.7126 - accuracy: 0.3636\n",
      "Epoch 47/200\n",
      "11/11 - 0s - loss: 1.6984 - accuracy: 0.3636\n",
      "Epoch 48/200\n",
      "11/11 - 0s - loss: 1.6838 - accuracy: 0.3636\n",
      "Epoch 49/200\n",
      "11/11 - 0s - loss: 1.6685 - accuracy: 0.4545\n",
      "Epoch 50/200\n",
      "11/11 - 0s - loss: 1.6528 - accuracy: 0.4545\n",
      "Epoch 51/200\n",
      "11/11 - 0s - loss: 1.6366 - accuracy: 0.5455\n",
      "Epoch 52/200\n",
      "11/11 - 0s - loss: 1.6200 - accuracy: 0.5455\n",
      "Epoch 53/200\n",
      "11/11 - 0s - loss: 1.6031 - accuracy: 0.5455\n",
      "Epoch 54/200\n",
      "11/11 - 0s - loss: 1.5860 - accuracy: 0.5455\n",
      "Epoch 55/200\n",
      "11/11 - 0s - loss: 1.5686 - accuracy: 0.5455\n",
      "Epoch 56/200\n",
      "11/11 - 0s - loss: 1.5510 - accuracy: 0.5455\n",
      "Epoch 57/200\n",
      "11/11 - 0s - loss: 1.5330 - accuracy: 0.5455\n",
      "Epoch 58/200\n",
      "11/11 - 0s - loss: 1.5148 - accuracy: 0.5455\n",
      "Epoch 59/200\n",
      "11/11 - 0s - loss: 1.4963 - accuracy: 0.5455\n",
      "Epoch 60/200\n",
      "11/11 - 0s - loss: 1.4774 - accuracy: 0.5455\n",
      "Epoch 61/200\n",
      "11/11 - 0s - loss: 1.4581 - accuracy: 0.5455\n",
      "Epoch 62/200\n",
      "11/11 - 0s - loss: 1.4386 - accuracy: 0.5455\n",
      "Epoch 63/200\n",
      "11/11 - 0s - loss: 1.4188 - accuracy: 0.5455\n",
      "Epoch 64/200\n",
      "11/11 - 0s - loss: 1.3988 - accuracy: 0.5455\n",
      "Epoch 65/200\n",
      "11/11 - 0s - loss: 1.3788 - accuracy: 0.5455\n",
      "Epoch 66/200\n",
      "11/11 - 0s - loss: 1.3586 - accuracy: 0.5455\n",
      "Epoch 67/200\n",
      "11/11 - 0s - loss: 1.3385 - accuracy: 0.5455\n",
      "Epoch 68/200\n",
      "11/11 - 0s - loss: 1.3184 - accuracy: 0.5455\n",
      "Epoch 69/200\n",
      "11/11 - 0s - loss: 1.2983 - accuracy: 0.5455\n",
      "Epoch 70/200\n",
      "11/11 - 0s - loss: 1.2783 - accuracy: 0.5455\n",
      "Epoch 71/200\n",
      "11/11 - 0s - loss: 1.2584 - accuracy: 0.5455\n",
      "Epoch 72/200\n",
      "11/11 - 0s - loss: 1.2386 - accuracy: 0.5455\n",
      "Epoch 73/200\n",
      "11/11 - 0s - loss: 1.2190 - accuracy: 0.5455\n",
      "Epoch 74/200\n",
      "11/11 - 0s - loss: 1.1994 - accuracy: 0.5455\n",
      "Epoch 75/200\n",
      "11/11 - 0s - loss: 1.1800 - accuracy: 0.5455\n",
      "Epoch 76/200\n",
      "11/11 - 0s - loss: 1.1607 - accuracy: 0.5455\n",
      "Epoch 77/200\n",
      "11/11 - 0s - loss: 1.1417 - accuracy: 0.5455\n",
      "Epoch 78/200\n",
      "11/11 - 0s - loss: 1.1228 - accuracy: 0.7273\n",
      "Epoch 79/200\n",
      "11/11 - 0s - loss: 1.1041 - accuracy: 0.7273\n",
      "Epoch 80/200\n",
      "11/11 - 0s - loss: 1.0856 - accuracy: 0.7273\n",
      "Epoch 81/200\n",
      "11/11 - 0s - loss: 1.0673 - accuracy: 0.7273\n",
      "Epoch 82/200\n",
      "11/11 - 0s - loss: 1.0493 - accuracy: 0.7273\n",
      "Epoch 83/200\n",
      "11/11 - 0s - loss: 1.0314 - accuracy: 0.7273\n",
      "Epoch 84/200\n",
      "11/11 - 0s - loss: 1.0138 - accuracy: 0.7273\n",
      "Epoch 85/200\n",
      "11/11 - 0s - loss: 0.9965 - accuracy: 0.7273\n",
      "Epoch 86/200\n",
      "11/11 - 0s - loss: 0.9793 - accuracy: 0.7273\n",
      "Epoch 87/200\n",
      "11/11 - 0s - loss: 0.9624 - accuracy: 0.7273\n",
      "Epoch 88/200\n",
      "11/11 - 0s - loss: 0.9457 - accuracy: 0.7273\n",
      "Epoch 89/200\n",
      "11/11 - 0s - loss: 0.9291 - accuracy: 0.7273\n",
      "Epoch 90/200\n",
      "11/11 - 0s - loss: 0.9128 - accuracy: 0.7273\n",
      "Epoch 91/200\n",
      "11/11 - 0s - loss: 0.8967 - accuracy: 0.7273\n",
      "Epoch 92/200\n",
      "11/11 - 0s - loss: 0.8808 - accuracy: 0.7273\n",
      "Epoch 93/200\n",
      "11/11 - 0s - loss: 0.8651 - accuracy: 0.7273\n",
      "Epoch 94/200\n",
      "11/11 - 0s - loss: 0.8495 - accuracy: 0.7273\n",
      "Epoch 95/200\n",
      "11/11 - 0s - loss: 0.8342 - accuracy: 0.7273\n",
      "Epoch 96/200\n",
      "11/11 - 0s - loss: 0.8190 - accuracy: 0.7273\n",
      "Epoch 97/200\n",
      "11/11 - 0s - loss: 0.8040 - accuracy: 0.7273\n",
      "Epoch 98/200\n",
      "11/11 - 0s - loss: 0.7893 - accuracy: 0.7273\n",
      "Epoch 99/200\n",
      "11/11 - 0s - loss: 0.7747 - accuracy: 0.7273\n",
      "Epoch 100/200\n",
      "11/11 - 0s - loss: 0.7603 - accuracy: 0.7273\n",
      "Epoch 101/200\n",
      "11/11 - 0s - loss: 0.7462 - accuracy: 0.7273\n",
      "Epoch 102/200\n",
      "11/11 - 0s - loss: 0.7322 - accuracy: 0.8182\n",
      "Epoch 103/200\n",
      "11/11 - 0s - loss: 0.7185 - accuracy: 0.8182\n",
      "Epoch 104/200\n",
      "11/11 - 0s - loss: 0.7049 - accuracy: 0.8182\n",
      "Epoch 105/200\n",
      "11/11 - 0s - loss: 0.6916 - accuracy: 0.8182\n",
      "Epoch 106/200\n",
      "11/11 - 0s - loss: 0.6785 - accuracy: 0.9091\n",
      "Epoch 107/200\n",
      "11/11 - 0s - loss: 0.6656 - accuracy: 0.9091\n",
      "Epoch 108/200\n",
      "11/11 - 0s - loss: 0.6529 - accuracy: 0.9091\n",
      "Epoch 109/200\n",
      "11/11 - 0s - loss: 0.6404 - accuracy: 0.9091\n",
      "Epoch 110/200\n",
      "11/11 - 0s - loss: 0.6281 - accuracy: 0.9091\n",
      "Epoch 111/200\n",
      "11/11 - 0s - loss: 0.6160 - accuracy: 0.9091\n",
      "Epoch 112/200\n",
      "11/11 - 0s - loss: 0.6041 - accuracy: 0.9091\n",
      "Epoch 113/200\n",
      "11/11 - 0s - loss: 0.5924 - accuracy: 0.9091\n",
      "Epoch 114/200\n",
      "11/11 - 0s - loss: 0.5809 - accuracy: 0.9091\n",
      "Epoch 115/200\n",
      "11/11 - 0s - loss: 0.5696 - accuracy: 0.9091\n",
      "Epoch 116/200\n",
      "11/11 - 0s - loss: 0.5584 - accuracy: 1.0000\n",
      "Epoch 117/200\n",
      "11/11 - 0s - loss: 0.5475 - accuracy: 1.0000\n",
      "Epoch 118/200\n",
      "11/11 - 0s - loss: 0.5367 - accuracy: 1.0000\n",
      "Epoch 119/200\n",
      "11/11 - 0s - loss: 0.5262 - accuracy: 1.0000\n",
      "Epoch 120/200\n",
      "11/11 - 0s - loss: 0.5158 - accuracy: 1.0000\n",
      "Epoch 121/200\n",
      "11/11 - 0s - loss: 0.5056 - accuracy: 1.0000\n",
      "Epoch 122/200\n",
      "11/11 - 0s - loss: 0.4956 - accuracy: 1.0000\n",
      "Epoch 123/200\n",
      "11/11 - 0s - loss: 0.4857 - accuracy: 1.0000\n",
      "Epoch 124/200\n",
      "11/11 - 0s - loss: 0.4761 - accuracy: 1.0000\n",
      "Epoch 125/200\n",
      "11/11 - 0s - loss: 0.4666 - accuracy: 1.0000\n",
      "Epoch 126/200\n",
      "11/11 - 0s - loss: 0.4573 - accuracy: 1.0000\n",
      "Epoch 127/200\n",
      "11/11 - 0s - loss: 0.4481 - accuracy: 1.0000\n",
      "Epoch 128/200\n",
      "11/11 - 0s - loss: 0.4391 - accuracy: 1.0000\n",
      "Epoch 129/200\n",
      "11/11 - 0s - loss: 0.4303 - accuracy: 1.0000\n",
      "Epoch 130/200\n",
      "11/11 - 0s - loss: 0.4216 - accuracy: 1.0000\n",
      "Epoch 131/200\n",
      "11/11 - 0s - loss: 0.4131 - accuracy: 1.0000\n",
      "Epoch 132/200\n",
      "11/11 - 0s - loss: 0.4048 - accuracy: 1.0000\n",
      "Epoch 133/200\n",
      "11/11 - 0s - loss: 0.3966 - accuracy: 1.0000\n",
      "Epoch 134/200\n",
      "11/11 - 0s - loss: 0.3885 - accuracy: 1.0000\n",
      "Epoch 135/200\n",
      "11/11 - 0s - loss: 0.3806 - accuracy: 1.0000\n",
      "Epoch 136/200\n",
      "11/11 - 0s - loss: 0.3729 - accuracy: 1.0000\n",
      "Epoch 137/200\n",
      "11/11 - 0s - loss: 0.3652 - accuracy: 1.0000\n",
      "Epoch 138/200\n",
      "11/11 - 0s - loss: 0.3578 - accuracy: 1.0000\n",
      "Epoch 139/200\n",
      "11/11 - 0s - loss: 0.3504 - accuracy: 1.0000\n",
      "Epoch 140/200\n",
      "11/11 - 0s - loss: 0.3432 - accuracy: 1.0000\n",
      "Epoch 141/200\n",
      "11/11 - 0s - loss: 0.3362 - accuracy: 1.0000\n"
     ]
    },
    {
     "name": "stdout",
     "output_type": "stream",
     "text": [
      "Epoch 142/200\n",
      "11/11 - 0s - loss: 0.3292 - accuracy: 1.0000\n",
      "Epoch 143/200\n",
      "11/11 - 0s - loss: 0.3224 - accuracy: 1.0000\n",
      "Epoch 144/200\n",
      "11/11 - 0s - loss: 0.3157 - accuracy: 1.0000\n",
      "Epoch 145/200\n",
      "11/11 - 0s - loss: 0.3092 - accuracy: 1.0000\n",
      "Epoch 146/200\n",
      "11/11 - 0s - loss: 0.3027 - accuracy: 1.0000\n",
      "Epoch 147/200\n",
      "11/11 - 0s - loss: 0.2964 - accuracy: 1.0000\n",
      "Epoch 148/200\n",
      "11/11 - 0s - loss: 0.2902 - accuracy: 1.0000\n",
      "Epoch 149/200\n",
      "11/11 - 0s - loss: 0.2841 - accuracy: 1.0000\n",
      "Epoch 150/200\n",
      "11/11 - 0s - loss: 0.2782 - accuracy: 1.0000\n",
      "Epoch 151/200\n",
      "11/11 - 0s - loss: 0.2723 - accuracy: 1.0000\n",
      "Epoch 152/200\n",
      "11/11 - 0s - loss: 0.2666 - accuracy: 1.0000\n",
      "Epoch 153/200\n",
      "11/11 - 0s - loss: 0.2609 - accuracy: 1.0000\n",
      "Epoch 154/200\n",
      "11/11 - 0s - loss: 0.2554 - accuracy: 1.0000\n",
      "Epoch 155/200\n",
      "11/11 - 0s - loss: 0.2499 - accuracy: 1.0000\n",
      "Epoch 156/200\n",
      "11/11 - 0s - loss: 0.2446 - accuracy: 1.0000\n",
      "Epoch 157/200\n",
      "11/11 - 0s - loss: 0.2394 - accuracy: 1.0000\n",
      "Epoch 158/200\n",
      "11/11 - 0s - loss: 0.2342 - accuracy: 1.0000\n",
      "Epoch 159/200\n",
      "11/11 - 0s - loss: 0.2292 - accuracy: 1.0000\n",
      "Epoch 160/200\n",
      "11/11 - 0s - loss: 0.2242 - accuracy: 1.0000\n",
      "Epoch 161/200\n",
      "11/11 - 0s - loss: 0.2193 - accuracy: 1.0000\n",
      "Epoch 162/200\n",
      "11/11 - 0s - loss: 0.2146 - accuracy: 1.0000\n",
      "Epoch 163/200\n",
      "11/11 - 0s - loss: 0.2099 - accuracy: 1.0000\n",
      "Epoch 164/200\n",
      "11/11 - 0s - loss: 0.2053 - accuracy: 1.0000\n",
      "Epoch 165/200\n",
      "11/11 - 0s - loss: 0.2008 - accuracy: 1.0000\n",
      "Epoch 166/200\n",
      "11/11 - 0s - loss: 0.1964 - accuracy: 1.0000\n",
      "Epoch 167/200\n",
      "11/11 - 0s - loss: 0.1920 - accuracy: 1.0000\n",
      "Epoch 168/200\n",
      "11/11 - 0s - loss: 0.1878 - accuracy: 1.0000\n",
      "Epoch 169/200\n",
      "11/11 - 0s - loss: 0.1836 - accuracy: 1.0000\n",
      "Epoch 170/200\n",
      "11/11 - 0s - loss: 0.1796 - accuracy: 1.0000\n",
      "Epoch 171/200\n",
      "11/11 - 0s - loss: 0.1756 - accuracy: 1.0000\n",
      "Epoch 172/200\n",
      "11/11 - 0s - loss: 0.1717 - accuracy: 1.0000\n",
      "Epoch 173/200\n",
      "11/11 - 0s - loss: 0.1679 - accuracy: 1.0000\n",
      "Epoch 174/200\n",
      "11/11 - 0s - loss: 0.1641 - accuracy: 1.0000\n",
      "Epoch 175/200\n",
      "11/11 - 0s - loss: 0.1605 - accuracy: 1.0000\n",
      "Epoch 176/200\n",
      "11/11 - 0s - loss: 0.1569 - accuracy: 1.0000\n",
      "Epoch 177/200\n",
      "11/11 - 0s - loss: 0.1534 - accuracy: 1.0000\n",
      "Epoch 178/200\n",
      "11/11 - 0s - loss: 0.1500 - accuracy: 1.0000\n",
      "Epoch 179/200\n",
      "11/11 - 0s - loss: 0.1467 - accuracy: 1.0000\n",
      "Epoch 180/200\n",
      "11/11 - 0s - loss: 0.1434 - accuracy: 1.0000\n",
      "Epoch 181/200\n",
      "11/11 - 0s - loss: 0.1402 - accuracy: 1.0000\n",
      "Epoch 182/200\n",
      "11/11 - 0s - loss: 0.1372 - accuracy: 1.0000\n",
      "Epoch 183/200\n",
      "11/11 - 0s - loss: 0.1341 - accuracy: 1.0000\n",
      "Epoch 184/200\n",
      "11/11 - 0s - loss: 0.1312 - accuracy: 1.0000\n",
      "Epoch 185/200\n",
      "11/11 - 0s - loss: 0.1284 - accuracy: 1.0000\n",
      "Epoch 186/200\n",
      "11/11 - 0s - loss: 0.1256 - accuracy: 1.0000\n",
      "Epoch 187/200\n",
      "11/11 - 0s - loss: 0.1229 - accuracy: 1.0000\n",
      "Epoch 188/200\n",
      "11/11 - 0s - loss: 0.1202 - accuracy: 1.0000\n",
      "Epoch 189/200\n",
      "11/11 - 0s - loss: 0.1177 - accuracy: 1.0000\n",
      "Epoch 190/200\n",
      "11/11 - 0s - loss: 0.1152 - accuracy: 1.0000\n",
      "Epoch 191/200\n",
      "11/11 - 0s - loss: 0.1128 - accuracy: 1.0000\n",
      "Epoch 192/200\n",
      "11/11 - 0s - loss: 0.1104 - accuracy: 1.0000\n",
      "Epoch 193/200\n",
      "11/11 - 0s - loss: 0.1081 - accuracy: 1.0000\n",
      "Epoch 194/200\n",
      "11/11 - 0s - loss: 0.1059 - accuracy: 1.0000\n",
      "Epoch 195/200\n",
      "11/11 - 0s - loss: 0.1037 - accuracy: 1.0000\n",
      "Epoch 196/200\n",
      "11/11 - 0s - loss: 0.1016 - accuracy: 1.0000\n",
      "Epoch 197/200\n",
      "11/11 - 0s - loss: 0.0996 - accuracy: 1.0000\n",
      "Epoch 198/200\n",
      "11/11 - 0s - loss: 0.0976 - accuracy: 1.0000\n",
      "Epoch 199/200\n",
      "11/11 - 0s - loss: 0.0957 - accuracy: 1.0000\n",
      "Epoch 200/200\n",
      "11/11 - 0s - loss: 0.0938 - accuracy: 1.0000\n"
     ]
    },
    {
     "data": {
      "text/plain": [
       "<tensorflow.python.keras.callbacks.History at 0x22159df8ac8>"
      ]
     },
     "execution_count": 17,
     "metadata": {},
     "output_type": "execute_result"
    }
   ],
   "source": [
    "model = Sequential()\n",
    "model.add(Embedding(vocab_size, 10, input_length=max_len-1)) # 레이블을 분리하였으므로 이제 X의 길이는 5\n",
    "model.add(SimpleRNN(32))\n",
    "model.add(Dense(vocab_size, activation='softmax'))\n",
    "model.compile(loss='categorical_crossentropy', optimizer='adam', metrics=['accuracy'])\n",
    "model.fit(X, y, epochs=200, verbose=2)"
   ]
  },
  {
   "cell_type": "code",
   "execution_count": 18,
   "metadata": {},
   "outputs": [],
   "source": [
    "def sentence_generation(model, t, current_word, n): # 모델, 토크나이저, 현재 단어, 반복할 횟수\n",
    "    init_word = current_word # 처음 들어온 단어도 마지막에 같이 출력하기위해 저장\n",
    "    sentence = ''\n",
    "    for _ in range(n): # n번 반복\n",
    "        encoded = t.texts_to_sequences([current_word])[0] # 현재 단어에 대한 정수 인코딩\n",
    "        encoded = pad_sequences([encoded], maxlen=5, padding='pre') # 데이터에 대한 패딩\n",
    "        result = model.predict_classes(encoded, verbose=0)\n",
    "    # 입력한 X(현재 단어)에 대해서 Y를 예측하고 Y(예측한 단어)를 result에 저장.\n",
    "        for word, index in t.word_index.items(): \n",
    "            if index == result: # 만약 예측한 단어와 인덱스와 동일한 단어가 있다면\n",
    "                break # 해당 단어가 예측 단어이므로 break\n",
    "        current_word = current_word + ' '  + word # 현재 단어 + ' ' + 예측 단어를 현재 단어로 변경\n",
    "        sentence = sentence + ' ' + word # 예측 단어를 문장에 저장\n",
    "    # for문이므로 이 행동을 다시 반복\n",
    "    sentence = init_word + sentence\n",
    "    return sentence"
   ]
  },
  {
   "cell_type": "code",
   "execution_count": 19,
   "metadata": {},
   "outputs": [
    {
     "name": "stdout",
     "output_type": "stream",
     "text": [
      "경마장에 있는 말이 뛰고 있다\n"
     ]
    }
   ],
   "source": [
    "print(sentence_generation(model, t, '경마장에', 4))\n",
    "# '경마장에' 라는 단어 뒤에는 총 4개의 단어가 있으므로 4번 예측"
   ]
  },
  {
   "cell_type": "code",
   "execution_count": 20,
   "metadata": {},
   "outputs": [
    {
     "name": "stdout",
     "output_type": "stream",
     "text": [
      "그의 말이 법이다\n"
     ]
    }
   ],
   "source": [
    "print(sentence_generation(model, t, '그의', 2)) # 2번 예측"
   ]
  },
  {
   "cell_type": "code",
   "execution_count": 21,
   "metadata": {},
   "outputs": [
    {
     "name": "stdout",
     "output_type": "stream",
     "text": [
      "가는 말이 고와야 오는 말이 곱다\n"
     ]
    }
   ],
   "source": [
    "print(sentence_generation(model, t, '가는', 5)) # 5번 예측"
   ]
  },
  {
   "cell_type": "code",
   "execution_count": null,
   "metadata": {},
   "outputs": [],
   "source": []
  }
 ],
 "metadata": {
  "kernelspec": {
   "display_name": "tensorflow_py37",
   "language": "python",
   "name": "tensorflow_py37"
  },
  "language_info": {
   "codemirror_mode": {
    "name": "ipython",
    "version": 3
   },
   "file_extension": ".py",
   "mimetype": "text/x-python",
   "name": "python",
   "nbconvert_exporter": "python",
   "pygments_lexer": "ipython3",
   "version": "3.7.9"
  }
 },
 "nbformat": 4,
 "nbformat_minor": 4
}
